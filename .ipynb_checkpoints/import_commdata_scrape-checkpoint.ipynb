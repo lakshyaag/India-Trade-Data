{
 "cells": [
  {
   "cell_type": "code",
   "execution_count": 1,
   "metadata": {},
   "outputs": [],
   "source": [
    "from selenium import webdriver\n",
    "from selenium.webdriver.support.ui import Select\n",
    "from selenium.webdriver.chrome.options import Options\n",
    "import pandas as pd\n",
    "import html5lib"
   ]
  },
  {
   "cell_type": "code",
   "execution_count": null,
   "metadata": {},
   "outputs": [],
   "source": [
    "import_comm_url = \"https://commerce-app.gov.in/eidb/icntcomq.asp\"\n",
    "\n",
    "# Setting up the driver\n",
    "chrome_options = Options()\n",
    "chrome_options.headless = True\n",
    "\n",
    "get_country_list = webdriver.Chrome(options=chrome_options)\n",
    "\n",
    "get_country_list.get(import_comm_url)\n",
    "\n",
    "# Populating country list\n",
    "country_names = []\n",
    "for o in Select(get_country_list.find_element_by_name('cntcode')).options:\n",
    "          country_names.append(o.text)\n",
    "        \n",
    "get_country_list.close()"
   ]
  },
  {
   "cell_type": "code",
   "execution_count": null,
   "metadata": {},
   "outputs": [],
   "source": [
    "import_comm_data = pd.DataFrame()"
   ]
  },
  {
   "cell_type": "code",
   "execution_count": null,
   "metadata": {},
   "outputs": [],
   "source": [
    "# Scraping commodity data\n",
    "def get_import_comm(year, upper_limit=len(country_names)):\n",
    "    \n",
    "    driver = webdriver.Chrome(options=chrome_options)\n",
    "    driver.get(import_comm_url)\n",
    "    \n",
    "    global import_comm_data    \n",
    "    \n",
    "    for ix in range(0, upper_limit):\n",
    "        \n",
    "        country_name = country_names[ix]\n",
    "        \n",
    "        Select(driver.find_element_by_id('select2')).select_by_value(str(year)) # Select year\n",
    "\n",
    "        Select(driver.find_element_by_id('select3')).select_by_visible_text(country_name) # Select country name\n",
    "\n",
    "        # Additional options    \n",
    "        driver.find_element_by_id('radioDAll').click()\n",
    "        driver.find_element_by_id('radiousd').click()\n",
    "\n",
    "        driver.find_element_by_id('button1').click()\n",
    "\n",
    "        try:\n",
    "            tbl = driver.find_element_by_tag_name('table').get_attribute('outerHTML')\n",
    "            df = pd.read_html(tbl)[0]\n",
    "\n",
    "            # Scraping dataframe\n",
    "            df['country'] = country_name\n",
    "            df['year'] = year\n",
    "            df.rename(columns={df.columns[4]:'value'}, inplace=True) # Renaming column to use in append\n",
    "\n",
    "\n",
    "            import_comm_data = import_comm_data.append(df.iloc[:-3,[1,2,4,6,7]], sort=False)\n",
    "            \n",
    "        except:\n",
    "            pass\n",
    "        \n",
    "        driver.get(import_comm_url)\n",
    "    \n",
    "    driver.close()"
   ]
  },
  {
   "cell_type": "code",
   "execution_count": null,
   "metadata": {},
   "outputs": [],
   "source": [
    "for year in range(2018, 2009, -1):\n",
    "    get_import_comm(year)"
   ]
  },
  {
   "cell_type": "code",
   "execution_count": null,
   "metadata": {},
   "outputs": [],
   "source": [
    "import_comm_data.reset_index(drop=True).to_csv('2018-2010_import.csv', index=False)"
   ]
  }
 ],
 "metadata": {
  "kernelspec": {
   "display_name": "Python 3",
   "language": "python",
   "name": "python3"
  },
  "language_info": {
   "codemirror_mode": {
    "name": "ipython",
    "version": 3
   },
   "file_extension": ".py",
   "mimetype": "text/x-python",
   "name": "python",
   "nbconvert_exporter": "python",
   "pygments_lexer": "ipython3",
   "version": "3.7.2"
  }
 },
 "nbformat": 4,
 "nbformat_minor": 2
}
