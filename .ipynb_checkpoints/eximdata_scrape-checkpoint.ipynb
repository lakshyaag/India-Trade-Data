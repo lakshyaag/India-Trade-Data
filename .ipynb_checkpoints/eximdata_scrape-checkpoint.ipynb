{
 "cells": [
  {
   "cell_type": "code",
   "execution_count": 28,
   "metadata": {},
   "outputs": [],
   "source": [
    "from selenium import webdriver\n",
    "from selenium.webdriver.support.ui import Select\n",
    "import pandas as pd\n",
    "import html5lib"
   ]
  },
  {
   "cell_type": "code",
   "execution_count": 29,
   "metadata": {},
   "outputs": [],
   "source": [
    "# Defining export function\n",
    "\n",
    "def get_export_data():\n",
    "    global export_data\n",
    "    for y in range(2018, 1996, -1):\n",
    "        driver.get(export_url)\n",
    "        year_select = Select(driver.find_element_by_id('select2')).select_by_value(str(y))\n",
    "        driver.find_element_by_id('radiousd').click()\n",
    "        driver.find_element_by_id('button1').click()\n",
    "\n",
    "        tbl = driver.find_element_by_tag_name('table').get_attribute('outerHTML')\n",
    "        df = pd.read_html(tbl)[0]\n",
    "\n",
    "        if y == 2018:\n",
    "            export_data['Country'] = df['Country']\n",
    "    \n",
    "        export_data = pd.merge(export_data, df.iloc[:, [1,4]], on='Country', how='left')  # Left merge to keep countries without any trade in said year; normal join would discard values"
   ]
  },
  {
   "cell_type": "code",
   "execution_count": 41,
   "metadata": {},
   "outputs": [],
   "source": [
    "# Defining import function\n",
    "\n",
    "def get_import_data():\n",
    "    global import_data\n",
    "    for y in range(2018, 1996, -1):\n",
    "        driver.get(import_url)\n",
    "        year_select = Select(driver.find_element_by_id('select2')).select_by_value(str(y))\n",
    "        driver.find_element_by_id('radiousd').click()\n",
    "        driver.find_element_by_id('button1').click()\n",
    "\n",
    "        tbl = driver.find_element_by_tag_name('table').get_attribute('outerHTML')\n",
    "        df = pd.read_html(tbl)[0]\n",
    "\n",
    "        if y == 2018:\n",
    "            import_data['Country'] = df['Country']\n",
    "    \n",
    "        import_data = pd.merge(import_data, df.iloc[:, [1,4]], on='Country', how='left') # Left merge to keep countries without any trade in said year; normal join would discard values "
   ]
  },
  {
   "cell_type": "code",
   "execution_count": 42,
   "metadata": {},
   "outputs": [],
   "source": [
    "export_data = pd.DataFrame()\n",
    "import_data = pd.DataFrame()\n",
    "\n",
    "export_url = \"https://commerce-app.gov.in/eidb/ecntq.asp\"\n",
    "import_url = \"https://commerce-app.gov.in/eidb/icntq.asp\"\n",
    "\n",
    "# Setting up the driver\n",
    "driver = webdriver.Chrome()\n",
    "driver.implicitly_wait(0.5)"
   ]
  },
  {
   "cell_type": "code",
   "execution_count": 43,
   "metadata": {},
   "outputs": [],
   "source": [
    "# Getting data\n",
    "get_export_data()\n",
    "get_import_data()"
   ]
  },
  {
   "cell_type": "code",
   "execution_count": 53,
   "metadata": {},
   "outputs": [],
   "source": [
    "export_data[:-1].to_csv('export.csv', index=False)"
   ]
  },
  {
   "cell_type": "code",
   "execution_count": 54,
   "metadata": {},
   "outputs": [],
   "source": [
    "import_data[:-1].to_csv('import.csv', index=False)"
   ]
  }
 ],
 "metadata": {
  "kernelspec": {
   "display_name": "Python 3",
   "language": "python",
   "name": "python3"
  },
  "language_info": {
   "codemirror_mode": {
    "name": "ipython",
    "version": 3
   },
   "file_extension": ".py",
   "mimetype": "text/x-python",
   "name": "python",
   "nbconvert_exporter": "python",
   "pygments_lexer": "ipython3",
   "version": "3.7.2"
  }
 },
 "nbformat": 4,
 "nbformat_minor": 2
}
