{
  "nbformat": 4,
  "nbformat_minor": 0,
  "metadata": {
    "colab": {
      "provenance": [],
      "collapsed_sections": [],
      "authorship_tag": "ABX9TyPL1UP0uvKdUUCmI9j66oBd"
    },
    "kernelspec": {
      "name": "python3",
      "display_name": "Python 3"
    },
    "language_info": {
      "name": "python"
    }
  },
  "cells": [
    {
      "cell_type": "code",
      "source": [
        "%load_ext autotime\n",
        "%load_ext nb_black"
      ],
      "metadata": {
        "colab": {
          "base_uri": "https://localhost:8080/",
          "height": 104
        },
        "id": "D45sW6bd-jp-",
        "outputId": "e995d222-432e-4c2d-cace-3c01f931d297"
      },
      "execution_count": 21,
      "outputs": [
        {
          "output_type": "stream",
          "name": "stdout",
          "text": [
            "The autotime extension is already loaded. To reload it, use:\n",
            "  %reload_ext autotime\n",
            "The nb_black extension is already loaded. To reload it, use:\n",
            "  %reload_ext nb_black\n",
            "time: 1.73 ms (started: 2022-11-01 12:13:12 +00:00)\n"
          ]
        },
        {
          "output_type": "display_data",
          "data": {
            "text/plain": [
              "<IPython.core.display.Javascript object>"
            ],
            "application/javascript": [
              "\n",
              "            setTimeout(function() {\n",
              "                var nbb_cell_id = 21;\n",
              "                var nbb_unformatted_code = \"%load_ext autotime\\n%load_ext nb_black\";\n",
              "                var nbb_formatted_code = \"%load_ext autotime\\n%load_ext nb_black\";\n",
              "                var nbb_cells = Jupyter.notebook.get_cells();\n",
              "                for (var i = 0; i < nbb_cells.length; ++i) {\n",
              "                    if (nbb_cells[i].input_prompt_number == nbb_cell_id) {\n",
              "                        if (nbb_cells[i].get_text() == nbb_unformatted_code) {\n",
              "                             nbb_cells[i].set_text(nbb_formatted_code);\n",
              "                        }\n",
              "                        break;\n",
              "                    }\n",
              "                }\n",
              "            }, 500);\n",
              "            "
            ]
          },
          "metadata": {}
        }
      ]
    },
    {
      "cell_type": "code",
      "execution_count": 22,
      "metadata": {
        "colab": {
          "base_uri": "https://localhost:8080/",
          "height": 34
        },
        "id": "ZZAJ1LCXz334",
        "outputId": "53988eb1-64cb-4fdf-fc4c-3f4d2b5ccb69"
      },
      "outputs": [
        {
          "output_type": "stream",
          "name": "stdout",
          "text": [
            "time: 557 µs (started: 2022-11-01 12:13:13 +00:00)\n"
          ]
        },
        {
          "output_type": "display_data",
          "data": {
            "text/plain": [
              "<IPython.core.display.Javascript object>"
            ],
            "application/javascript": [
              "\n",
              "            setTimeout(function() {\n",
              "                var nbb_cell_id = 22;\n",
              "                var nbb_unformatted_code = \"import requests\\nfrom bs4 import BeautifulSoup\\nimport pandas as pd\\nimport re\";\n",
              "                var nbb_formatted_code = \"import requests\\nfrom bs4 import BeautifulSoup\\nimport pandas as pd\\nimport re\";\n",
              "                var nbb_cells = Jupyter.notebook.get_cells();\n",
              "                for (var i = 0; i < nbb_cells.length; ++i) {\n",
              "                    if (nbb_cells[i].input_prompt_number == nbb_cell_id) {\n",
              "                        if (nbb_cells[i].get_text() == nbb_unformatted_code) {\n",
              "                             nbb_cells[i].set_text(nbb_formatted_code);\n",
              "                        }\n",
              "                        break;\n",
              "                    }\n",
              "                }\n",
              "            }, 500);\n",
              "            "
            ]
          },
          "metadata": {}
        }
      ],
      "source": [
        "import requests\n",
        "from bs4 import BeautifulSoup\n",
        "import pandas as pd\n",
        "import re"
      ]
    },
    {
      "cell_type": "code",
      "source": [
        "country_list = {'AFGHANISTAN': '1',\n",
        " 'ALBANIA': '3',\n",
        " 'ALGERIA': '5',\n",
        " 'AMERI SAMOA': '7',\n",
        " 'ANDORRA': '9',\n",
        " 'ANGOLA': '11',\n",
        " 'ANGUILLA': '12',\n",
        " 'ANTARTICA': '14',\n",
        " 'ANTIGUA': '13',\n",
        " 'ARGENTINA': '15',\n",
        " 'ARMENIA': '16',\n",
        " 'ARUBA': '20',\n",
        " 'AUSTRALIA': '17',\n",
        " 'AUSTRIA': '19',\n",
        " 'AZERBAIJAN': '21',\n",
        " 'BAHAMAS': '23',\n",
        " 'BAHARAIN IS': '25',\n",
        " 'BANGLADESH PR': '27',\n",
        " 'BARBADOS': '29',\n",
        " 'BELARUS': '55',\n",
        " 'BELGIUM': '33',\n",
        " 'BELIZE': '31',\n",
        " 'BENIN': '35',\n",
        " 'BERMUDA': '37',\n",
        " 'BHUTAN': '38',\n",
        " 'BOLIVIA': '39',\n",
        " 'BOSNIA-HRZGOVIN': '40',\n",
        " 'BOTSWANA': '41',\n",
        " 'BR VIRGN IS': '45',\n",
        " 'BRAZIL': '43',\n",
        " 'BRUNEI': '47',\n",
        " 'BULGARIA': '49',\n",
        " 'BURKINA FASO': '50',\n",
        " 'BURUNDI': '53',\n",
        " 'C AFRI REP': '67',\n",
        " 'CAMBODIA': '56',\n",
        " 'CAMEROON': '57',\n",
        " 'CANADA': '59',\n",
        " 'CANARY IS': '61',\n",
        " 'CAPE VERDE IS': '63',\n",
        " 'CAYMAN IS': '65',\n",
        " 'CHAD': '69',\n",
        " 'CHANNEL IS': '71',\n",
        " 'CHILE': '73',\n",
        " 'CHINA P RP': '77',\n",
        " 'CHRISTMAS IS.': '79',\n",
        " 'COCOS IS': '81',\n",
        " 'COLOMBIA': '83',\n",
        " 'COMOROS': '85',\n",
        " 'CONGO D. REP.': '459',\n",
        " 'CONGO P REP': '87',\n",
        " 'COOK IS': '89',\n",
        " 'COSTA RICA': '91',\n",
        " \"COTE D' IVOIRE\": '199',\n",
        " 'CROATIA': '92',\n",
        " 'CUBA': '93',\n",
        " 'CURACAO': '276',\n",
        " 'CYPRUS': '95',\n",
        " 'CZECH REPUBLIC': '98',\n",
        " 'DENMARK': '101',\n",
        " 'DJIBOUTI': '102',\n",
        " 'DOMINIC REP': '103',\n",
        " 'DOMINICA': '105',\n",
        " 'ECUADOR': '109',\n",
        " 'EGYPT A RP': '111',\n",
        " 'EL SALVADOR': '113',\n",
        " 'EQUTL GUINEA': '117',\n",
        " 'ERITREA': '116',\n",
        " 'ESTONIA': '114',\n",
        " 'ETHIOPIA': '115',\n",
        " 'FALKLAND IS': '123',\n",
        " 'FAROE IS.': '121',\n",
        " 'FIJI IS': '127',\n",
        " 'FINLAND': '125',\n",
        " 'FR GUIANA': '131',\n",
        " 'FR POLYNESIA': '133',\n",
        " 'FR S ANT TR': '135',\n",
        " 'FRANCE': '129',\n",
        " 'GABON': '141',\n",
        " 'GAMBIA': '143',\n",
        " 'GEORGIA': '145',\n",
        " 'GERMANY': '147',\n",
        " 'GHANA': '149',\n",
        " 'GIBRALTAR': '151',\n",
        " 'GREECE': '155',\n",
        " 'GREENLAND': '157',\n",
        " 'GRENADA': '159',\n",
        " 'GUADELOUPE': '161',\n",
        " 'GUAM': '163',\n",
        " 'GUATEMALA': '165',\n",
        " 'GUERNSEY': '124',\n",
        " 'GUINEA': '167',\n",
        " 'GUINEA BISSAU': '169',\n",
        " 'GUYANA': '171',\n",
        " 'HAITI': '175',\n",
        " 'HEARD MACDONALD': '176',\n",
        " 'HONDURAS': '177',\n",
        " 'HONG KONG': '179',\n",
        " 'HUNGARY': '181',\n",
        " 'ICELAND': '185',\n",
        " 'INDONESIA': '187',\n",
        " 'INSTALLATIONS IN INTERNATIONAL WATERS   ': '2',\n",
        " 'IRAN': '189',\n",
        " 'IRAQ': '191',\n",
        " 'IRELAND': '193',\n",
        " 'ISRAEL': '195',\n",
        " 'ITALY': '197',\n",
        " 'JAMAICA': '203',\n",
        " 'JAPAN': '205',\n",
        " 'JERSEY         ': '122',\n",
        " 'JORDAN': '207',\n",
        " 'KAZAKHSTAN': '212',\n",
        " 'KENYA': '213',\n",
        " 'KIRIBATI REP': '214',\n",
        " 'KOREA DP RP': '215',\n",
        " 'KOREA RP': '217',\n",
        " 'KUWAIT': '219',\n",
        " 'KYRGHYZSTAN': '216',\n",
        " 'LAO PD RP': '223',\n",
        " 'LATVIA': '224',\n",
        " 'LEBANON': '225',\n",
        " 'LESOTHO': '227',\n",
        " 'LIBERIA': '229',\n",
        " 'LIBYA': '231',\n",
        " 'LIECHTENSTEIN': '233',\n",
        " 'LITHUANIA': '234',\n",
        " 'LUXEMBOURG': '235',\n",
        " 'MACAO': '239',\n",
        " 'MACEDONIA': '240',\n",
        " 'MADAGASCAR': '241',\n",
        " 'MALAWI': '243',\n",
        " 'MALAYSIA': '245',\n",
        " 'MALDIVES': '247',\n",
        " 'MALI': '249',\n",
        " 'MALTA': '251',\n",
        " 'MARSHALL ISLAND': '252',\n",
        " 'MARTINIQUE': '253',\n",
        " 'MAURITANIA': '255',\n",
        " 'MAURITIUS': '257',\n",
        " 'MAYOTTE': '34',\n",
        " 'MEXICO': '259',\n",
        " 'MICRONESIA': '256',\n",
        " 'MOLDOVA': '260',\n",
        " 'MONACO': '262',\n",
        " 'MONGOLIA': '261',\n",
        " 'MONTENEGRO': '356',\n",
        " 'MONTSERRAT': '263',\n",
        " 'MOROCCO': '265',\n",
        " 'MOZAMBIQUE': '267',\n",
        " 'MYANMAR': '258',\n",
        " 'N. MARIANA IS.': '294',\n",
        " 'NAMIBIA': '269',\n",
        " 'NAURU RP': '271',\n",
        " 'NEPAL': '273',\n",
        " 'NETHERLAND': '275',\n",
        " 'NETHERLANDANTIL': '277',\n",
        " 'NEUTRAL ZONE': '279',\n",
        " 'NEW CALEDONIA': '281',\n",
        " 'NEW ZEALAND': '285',\n",
        " 'NICARAGUA': '287',\n",
        " 'NIGER': '289',\n",
        " 'NIGERIA': '291',\n",
        " 'NIUE IS': '293',\n",
        " 'NORFOLK IS': '295',\n",
        " 'NORWAY': '297',\n",
        " 'OMAN': '301',\n",
        " 'PACIFIC IS': '307',\n",
        " 'PAKISTAN IR': '309',\n",
        " 'PALAU': '310',\n",
        " 'PANAMA C Z': '313',\n",
        " 'PANAMA REPUBLIC': '311',\n",
        " 'PAPUA N GNA': '315',\n",
        " 'PARAGUAY': '317',\n",
        " 'PERU': '319',\n",
        " 'Petroleum Products': '0',\n",
        " 'PHILIPPINES': '323',\n",
        " 'PITCAIRN IS.': '321',\n",
        " 'POLAND': '325',\n",
        " 'PORTUGAL': '327',\n",
        " 'PUERTO RICO': '331',\n",
        " 'QATAR': '335',\n",
        " 'REUNION': '339',\n",
        " 'ROMANIA': '343',\n",
        " 'RUSSIA': '344',\n",
        " 'RWANDA': '345',\n",
        " 'SAHARWI A.DM RP': '347',\n",
        " 'SAMOA': '447',\n",
        " 'SAN MARINO': '346',\n",
        " 'SAO TOME': '349',\n",
        " 'SAUDI ARAB': '351',\n",
        " 'SENEGAL': '353',\n",
        " 'SERBIA': '352',\n",
        " 'SEYCHELLES': '355',\n",
        " 'SIERRA LEONE': '357',\n",
        " 'SINGAPORE': '359',\n",
        " 'SINT MAARTEN (DUTCH PART)': '278',\n",
        " 'SLOVAK REP': '358',\n",
        " 'SLOVENIA': '360',\n",
        " 'SOLOMON IS': '361',\n",
        " 'SOMALIA': '363',\n",
        " 'SOUTH AFRICA': '365',\n",
        " 'SOUTH SUDAN ': '382',\n",
        " 'SPAIN': '367',\n",
        " 'SRI LANKA DSR': '369',\n",
        " 'ST HELENA': '371',\n",
        " 'ST KITT N A': '373',\n",
        " 'ST LUCIA': '375',\n",
        " 'ST PIERRE': '377',\n",
        " 'ST VINCENT': '379',\n",
        " 'STATE OF PALEST': '196',\n",
        " 'SUDAN': '381',\n",
        " 'SURINAME': '383',\n",
        " 'SVALLBARD AND J': '6',\n",
        " 'SWAZILAND': '385',\n",
        " 'SWEDEN': '387',\n",
        " 'SWITZERLAND': '389',\n",
        " 'SYRIA': '391',\n",
        " 'TAIWAN': '75',\n",
        " 'TAJIKISTAN': '393',\n",
        " 'TANZANIA REP': '395',\n",
        " 'THAILAND': '397',\n",
        " 'TIMOR LESTE': '329',\n",
        " 'TOGO': '399',\n",
        " 'TOKELAU IS': '401',\n",
        " 'TONGA': '403',\n",
        " 'Trade to Unspecified Countries': '999',\n",
        " 'TRINIDAD': '405',\n",
        " 'TUNISIA': '407',\n",
        " 'TURKEY': '409',\n",
        " 'TURKMENISTAN': '410',\n",
        " 'TURKS C IS': '411',\n",
        " 'TUVALU': '413',\n",
        " 'U ARAB EMTS': '419',\n",
        " 'U K': '421',\n",
        " 'U S A': '423',\n",
        " 'UGANDA': '417',\n",
        " 'UKRAINE': '422',\n",
        " 'UNION OF SERBIA & MONTENEGRO': '354',\n",
        " 'UNSPECIFIED': '599',\n",
        " 'URUGUAY': '427',\n",
        " 'US MINOR OUTLYING ISLANDS               ': '424',\n",
        " 'UZBEKISTAN': '430',\n",
        " 'VANUATU REP': '431',\n",
        " 'VATICAN CITY': '198',\n",
        " 'VENEZUELA': '433',\n",
        " 'VIETNAM SOC REP': '437',\n",
        " 'VIRGIN IS US': '439',\n",
        " 'WALLIS F IS': '443',\n",
        " 'YEMEN REPUBLC': '453',\n",
        " 'ZAMBIA': '461',\n",
        " 'ZIMBABWE': '463'}"
      ],
      "metadata": {
        "colab": {
          "base_uri": "https://localhost:8080/",
          "height": 34
        },
        "id": "CLgBqZTe-g9j",
        "outputId": "3eba1552-2abe-46d1-8746-ca0493fb069b"
      },
      "execution_count": 23,
      "outputs": [
        {
          "output_type": "stream",
          "name": "stdout",
          "text": [
            "time: 8.43 ms (started: 2022-11-01 12:13:20 +00:00)\n"
          ]
        },
        {
          "output_type": "display_data",
          "data": {
            "text/plain": [
              "<IPython.core.display.Javascript object>"
            ],
            "application/javascript": [
              "\n",
              "            setTimeout(function() {\n",
              "                var nbb_cell_id = 23;\n",
              "                var nbb_unformatted_code = \"country_list = {'AFGHANISTAN': '1',\\n 'ALBANIA': '3',\\n 'ALGERIA': '5',\\n 'AMERI SAMOA': '7',\\n 'ANDORRA': '9',\\n 'ANGOLA': '11',\\n 'ANGUILLA': '12',\\n 'ANTARTICA': '14',\\n 'ANTIGUA': '13',\\n 'ARGENTINA': '15',\\n 'ARMENIA': '16',\\n 'ARUBA': '20',\\n 'AUSTRALIA': '17',\\n 'AUSTRIA': '19',\\n 'AZERBAIJAN': '21',\\n 'BAHAMAS': '23',\\n 'BAHARAIN IS': '25',\\n 'BANGLADESH PR': '27',\\n 'BARBADOS': '29',\\n 'BELARUS': '55',\\n 'BELGIUM': '33',\\n 'BELIZE': '31',\\n 'BENIN': '35',\\n 'BERMUDA': '37',\\n 'BHUTAN': '38',\\n 'BOLIVIA': '39',\\n 'BOSNIA-HRZGOVIN': '40',\\n 'BOTSWANA': '41',\\n 'BR VIRGN IS': '45',\\n 'BRAZIL': '43',\\n 'BRUNEI': '47',\\n 'BULGARIA': '49',\\n 'BURKINA FASO': '50',\\n 'BURUNDI': '53',\\n 'C AFRI REP': '67',\\n 'CAMBODIA': '56',\\n 'CAMEROON': '57',\\n 'CANADA': '59',\\n 'CANARY IS': '61',\\n 'CAPE VERDE IS': '63',\\n 'CAYMAN IS': '65',\\n 'CHAD': '69',\\n 'CHANNEL IS': '71',\\n 'CHILE': '73',\\n 'CHINA P RP': '77',\\n 'CHRISTMAS IS.': '79',\\n 'COCOS IS': '81',\\n 'COLOMBIA': '83',\\n 'COMOROS': '85',\\n 'CONGO D. REP.': '459',\\n 'CONGO P REP': '87',\\n 'COOK IS': '89',\\n 'COSTA RICA': '91',\\n \\\"COTE D' IVOIRE\\\": '199',\\n 'CROATIA': '92',\\n 'CUBA': '93',\\n 'CURACAO': '276',\\n 'CYPRUS': '95',\\n 'CZECH REPUBLIC': '98',\\n 'DENMARK': '101',\\n 'DJIBOUTI': '102',\\n 'DOMINIC REP': '103',\\n 'DOMINICA': '105',\\n 'ECUADOR': '109',\\n 'EGYPT A RP': '111',\\n 'EL SALVADOR': '113',\\n 'EQUTL GUINEA': '117',\\n 'ERITREA': '116',\\n 'ESTONIA': '114',\\n 'ETHIOPIA': '115',\\n 'FALKLAND IS': '123',\\n 'FAROE IS.': '121',\\n 'FIJI IS': '127',\\n 'FINLAND': '125',\\n 'FR GUIANA': '131',\\n 'FR POLYNESIA': '133',\\n 'FR S ANT TR': '135',\\n 'FRANCE': '129',\\n 'GABON': '141',\\n 'GAMBIA': '143',\\n 'GEORGIA': '145',\\n 'GERMANY': '147',\\n 'GHANA': '149',\\n 'GIBRALTAR': '151',\\n 'GREECE': '155',\\n 'GREENLAND': '157',\\n 'GRENADA': '159',\\n 'GUADELOUPE': '161',\\n 'GUAM': '163',\\n 'GUATEMALA': '165',\\n 'GUERNSEY': '124',\\n 'GUINEA': '167',\\n 'GUINEA BISSAU': '169',\\n 'GUYANA': '171',\\n 'HAITI': '175',\\n 'HEARD MACDONALD': '176',\\n 'HONDURAS': '177',\\n 'HONG KONG': '179',\\n 'HUNGARY': '181',\\n 'ICELAND': '185',\\n 'INDONESIA': '187',\\n 'INSTALLATIONS IN INTERNATIONAL WATERS   ': '2',\\n 'IRAN': '189',\\n 'IRAQ': '191',\\n 'IRELAND': '193',\\n 'ISRAEL': '195',\\n 'ITALY': '197',\\n 'JAMAICA': '203',\\n 'JAPAN': '205',\\n 'JERSEY         ': '122',\\n 'JORDAN': '207',\\n 'KAZAKHSTAN': '212',\\n 'KENYA': '213',\\n 'KIRIBATI REP': '214',\\n 'KOREA DP RP': '215',\\n 'KOREA RP': '217',\\n 'KUWAIT': '219',\\n 'KYRGHYZSTAN': '216',\\n 'LAO PD RP': '223',\\n 'LATVIA': '224',\\n 'LEBANON': '225',\\n 'LESOTHO': '227',\\n 'LIBERIA': '229',\\n 'LIBYA': '231',\\n 'LIECHTENSTEIN': '233',\\n 'LITHUANIA': '234',\\n 'LUXEMBOURG': '235',\\n 'MACAO': '239',\\n 'MACEDONIA': '240',\\n 'MADAGASCAR': '241',\\n 'MALAWI': '243',\\n 'MALAYSIA': '245',\\n 'MALDIVES': '247',\\n 'MALI': '249',\\n 'MALTA': '251',\\n 'MARSHALL ISLAND': '252',\\n 'MARTINIQUE': '253',\\n 'MAURITANIA': '255',\\n 'MAURITIUS': '257',\\n 'MAYOTTE': '34',\\n 'MEXICO': '259',\\n 'MICRONESIA': '256',\\n 'MOLDOVA': '260',\\n 'MONACO': '262',\\n 'MONGOLIA': '261',\\n 'MONTENEGRO': '356',\\n 'MONTSERRAT': '263',\\n 'MOROCCO': '265',\\n 'MOZAMBIQUE': '267',\\n 'MYANMAR': '258',\\n 'N. MARIANA IS.': '294',\\n 'NAMIBIA': '269',\\n 'NAURU RP': '271',\\n 'NEPAL': '273',\\n 'NETHERLAND': '275',\\n 'NETHERLANDANTIL': '277',\\n 'NEUTRAL ZONE': '279',\\n 'NEW CALEDONIA': '281',\\n 'NEW ZEALAND': '285',\\n 'NICARAGUA': '287',\\n 'NIGER': '289',\\n 'NIGERIA': '291',\\n 'NIUE IS': '293',\\n 'NORFOLK IS': '295',\\n 'NORWAY': '297',\\n 'OMAN': '301',\\n 'PACIFIC IS': '307',\\n 'PAKISTAN IR': '309',\\n 'PALAU': '310',\\n 'PANAMA C Z': '313',\\n 'PANAMA REPUBLIC': '311',\\n 'PAPUA N GNA': '315',\\n 'PARAGUAY': '317',\\n 'PERU': '319',\\n 'Petroleum Products': '0',\\n 'PHILIPPINES': '323',\\n 'PITCAIRN IS.': '321',\\n 'POLAND': '325',\\n 'PORTUGAL': '327',\\n 'PUERTO RICO': '331',\\n 'QATAR': '335',\\n 'REUNION': '339',\\n 'ROMANIA': '343',\\n 'RUSSIA': '344',\\n 'RWANDA': '345',\\n 'SAHARWI A.DM RP': '347',\\n 'SAMOA': '447',\\n 'SAN MARINO': '346',\\n 'SAO TOME': '349',\\n 'SAUDI ARAB': '351',\\n 'SENEGAL': '353',\\n 'SERBIA': '352',\\n 'SEYCHELLES': '355',\\n 'SIERRA LEONE': '357',\\n 'SINGAPORE': '359',\\n 'SINT MAARTEN (DUTCH PART)': '278',\\n 'SLOVAK REP': '358',\\n 'SLOVENIA': '360',\\n 'SOLOMON IS': '361',\\n 'SOMALIA': '363',\\n 'SOUTH AFRICA': '365',\\n 'SOUTH SUDAN ': '382',\\n 'SPAIN': '367',\\n 'SRI LANKA DSR': '369',\\n 'ST HELENA': '371',\\n 'ST KITT N A': '373',\\n 'ST LUCIA': '375',\\n 'ST PIERRE': '377',\\n 'ST VINCENT': '379',\\n 'STATE OF PALEST': '196',\\n 'SUDAN': '381',\\n 'SURINAME': '383',\\n 'SVALLBARD AND J': '6',\\n 'SWAZILAND': '385',\\n 'SWEDEN': '387',\\n 'SWITZERLAND': '389',\\n 'SYRIA': '391',\\n 'TAIWAN': '75',\\n 'TAJIKISTAN': '393',\\n 'TANZANIA REP': '395',\\n 'THAILAND': '397',\\n 'TIMOR LESTE': '329',\\n 'TOGO': '399',\\n 'TOKELAU IS': '401',\\n 'TONGA': '403',\\n 'Trade to Unspecified Countries': '999',\\n 'TRINIDAD': '405',\\n 'TUNISIA': '407',\\n 'TURKEY': '409',\\n 'TURKMENISTAN': '410',\\n 'TURKS C IS': '411',\\n 'TUVALU': '413',\\n 'U ARAB EMTS': '419',\\n 'U K': '421',\\n 'U S A': '423',\\n 'UGANDA': '417',\\n 'UKRAINE': '422',\\n 'UNION OF SERBIA & MONTENEGRO': '354',\\n 'UNSPECIFIED': '599',\\n 'URUGUAY': '427',\\n 'US MINOR OUTLYING ISLANDS               ': '424',\\n 'UZBEKISTAN': '430',\\n 'VANUATU REP': '431',\\n 'VATICAN CITY': '198',\\n 'VENEZUELA': '433',\\n 'VIETNAM SOC REP': '437',\\n 'VIRGIN IS US': '439',\\n 'WALLIS F IS': '443',\\n 'YEMEN REPUBLC': '453',\\n 'ZAMBIA': '461',\\n 'ZIMBABWE': '463'}\";\n",
              "                var nbb_formatted_code = \"country_list = {\\n    \\\"AFGHANISTAN\\\": \\\"1\\\",\\n    \\\"ALBANIA\\\": \\\"3\\\",\\n    \\\"ALGERIA\\\": \\\"5\\\",\\n    \\\"AMERI SAMOA\\\": \\\"7\\\",\\n    \\\"ANDORRA\\\": \\\"9\\\",\\n    \\\"ANGOLA\\\": \\\"11\\\",\\n    \\\"ANGUILLA\\\": \\\"12\\\",\\n    \\\"ANTARTICA\\\": \\\"14\\\",\\n    \\\"ANTIGUA\\\": \\\"13\\\",\\n    \\\"ARGENTINA\\\": \\\"15\\\",\\n    \\\"ARMENIA\\\": \\\"16\\\",\\n    \\\"ARUBA\\\": \\\"20\\\",\\n    \\\"AUSTRALIA\\\": \\\"17\\\",\\n    \\\"AUSTRIA\\\": \\\"19\\\",\\n    \\\"AZERBAIJAN\\\": \\\"21\\\",\\n    \\\"BAHAMAS\\\": \\\"23\\\",\\n    \\\"BAHARAIN IS\\\": \\\"25\\\",\\n    \\\"BANGLADESH PR\\\": \\\"27\\\",\\n    \\\"BARBADOS\\\": \\\"29\\\",\\n    \\\"BELARUS\\\": \\\"55\\\",\\n    \\\"BELGIUM\\\": \\\"33\\\",\\n    \\\"BELIZE\\\": \\\"31\\\",\\n    \\\"BENIN\\\": \\\"35\\\",\\n    \\\"BERMUDA\\\": \\\"37\\\",\\n    \\\"BHUTAN\\\": \\\"38\\\",\\n    \\\"BOLIVIA\\\": \\\"39\\\",\\n    \\\"BOSNIA-HRZGOVIN\\\": \\\"40\\\",\\n    \\\"BOTSWANA\\\": \\\"41\\\",\\n    \\\"BR VIRGN IS\\\": \\\"45\\\",\\n    \\\"BRAZIL\\\": \\\"43\\\",\\n    \\\"BRUNEI\\\": \\\"47\\\",\\n    \\\"BULGARIA\\\": \\\"49\\\",\\n    \\\"BURKINA FASO\\\": \\\"50\\\",\\n    \\\"BURUNDI\\\": \\\"53\\\",\\n    \\\"C AFRI REP\\\": \\\"67\\\",\\n    \\\"CAMBODIA\\\": \\\"56\\\",\\n    \\\"CAMEROON\\\": \\\"57\\\",\\n    \\\"CANADA\\\": \\\"59\\\",\\n    \\\"CANARY IS\\\": \\\"61\\\",\\n    \\\"CAPE VERDE IS\\\": \\\"63\\\",\\n    \\\"CAYMAN IS\\\": \\\"65\\\",\\n    \\\"CHAD\\\": \\\"69\\\",\\n    \\\"CHANNEL IS\\\": \\\"71\\\",\\n    \\\"CHILE\\\": \\\"73\\\",\\n    \\\"CHINA P RP\\\": \\\"77\\\",\\n    \\\"CHRISTMAS IS.\\\": \\\"79\\\",\\n    \\\"COCOS IS\\\": \\\"81\\\",\\n    \\\"COLOMBIA\\\": \\\"83\\\",\\n    \\\"COMOROS\\\": \\\"85\\\",\\n    \\\"CONGO D. REP.\\\": \\\"459\\\",\\n    \\\"CONGO P REP\\\": \\\"87\\\",\\n    \\\"COOK IS\\\": \\\"89\\\",\\n    \\\"COSTA RICA\\\": \\\"91\\\",\\n    \\\"COTE D' IVOIRE\\\": \\\"199\\\",\\n    \\\"CROATIA\\\": \\\"92\\\",\\n    \\\"CUBA\\\": \\\"93\\\",\\n    \\\"CURACAO\\\": \\\"276\\\",\\n    \\\"CYPRUS\\\": \\\"95\\\",\\n    \\\"CZECH REPUBLIC\\\": \\\"98\\\",\\n    \\\"DENMARK\\\": \\\"101\\\",\\n    \\\"DJIBOUTI\\\": \\\"102\\\",\\n    \\\"DOMINIC REP\\\": \\\"103\\\",\\n    \\\"DOMINICA\\\": \\\"105\\\",\\n    \\\"ECUADOR\\\": \\\"109\\\",\\n    \\\"EGYPT A RP\\\": \\\"111\\\",\\n    \\\"EL SALVADOR\\\": \\\"113\\\",\\n    \\\"EQUTL GUINEA\\\": \\\"117\\\",\\n    \\\"ERITREA\\\": \\\"116\\\",\\n    \\\"ESTONIA\\\": \\\"114\\\",\\n    \\\"ETHIOPIA\\\": \\\"115\\\",\\n    \\\"FALKLAND IS\\\": \\\"123\\\",\\n    \\\"FAROE IS.\\\": \\\"121\\\",\\n    \\\"FIJI IS\\\": \\\"127\\\",\\n    \\\"FINLAND\\\": \\\"125\\\",\\n    \\\"FR GUIANA\\\": \\\"131\\\",\\n    \\\"FR POLYNESIA\\\": \\\"133\\\",\\n    \\\"FR S ANT TR\\\": \\\"135\\\",\\n    \\\"FRANCE\\\": \\\"129\\\",\\n    \\\"GABON\\\": \\\"141\\\",\\n    \\\"GAMBIA\\\": \\\"143\\\",\\n    \\\"GEORGIA\\\": \\\"145\\\",\\n    \\\"GERMANY\\\": \\\"147\\\",\\n    \\\"GHANA\\\": \\\"149\\\",\\n    \\\"GIBRALTAR\\\": \\\"151\\\",\\n    \\\"GREECE\\\": \\\"155\\\",\\n    \\\"GREENLAND\\\": \\\"157\\\",\\n    \\\"GRENADA\\\": \\\"159\\\",\\n    \\\"GUADELOUPE\\\": \\\"161\\\",\\n    \\\"GUAM\\\": \\\"163\\\",\\n    \\\"GUATEMALA\\\": \\\"165\\\",\\n    \\\"GUERNSEY\\\": \\\"124\\\",\\n    \\\"GUINEA\\\": \\\"167\\\",\\n    \\\"GUINEA BISSAU\\\": \\\"169\\\",\\n    \\\"GUYANA\\\": \\\"171\\\",\\n    \\\"HAITI\\\": \\\"175\\\",\\n    \\\"HEARD MACDONALD\\\": \\\"176\\\",\\n    \\\"HONDURAS\\\": \\\"177\\\",\\n    \\\"HONG KONG\\\": \\\"179\\\",\\n    \\\"HUNGARY\\\": \\\"181\\\",\\n    \\\"ICELAND\\\": \\\"185\\\",\\n    \\\"INDONESIA\\\": \\\"187\\\",\\n    \\\"INSTALLATIONS IN INTERNATIONAL WATERS   \\\": \\\"2\\\",\\n    \\\"IRAN\\\": \\\"189\\\",\\n    \\\"IRAQ\\\": \\\"191\\\",\\n    \\\"IRELAND\\\": \\\"193\\\",\\n    \\\"ISRAEL\\\": \\\"195\\\",\\n    \\\"ITALY\\\": \\\"197\\\",\\n    \\\"JAMAICA\\\": \\\"203\\\",\\n    \\\"JAPAN\\\": \\\"205\\\",\\n    \\\"JERSEY         \\\": \\\"122\\\",\\n    \\\"JORDAN\\\": \\\"207\\\",\\n    \\\"KAZAKHSTAN\\\": \\\"212\\\",\\n    \\\"KENYA\\\": \\\"213\\\",\\n    \\\"KIRIBATI REP\\\": \\\"214\\\",\\n    \\\"KOREA DP RP\\\": \\\"215\\\",\\n    \\\"KOREA RP\\\": \\\"217\\\",\\n    \\\"KUWAIT\\\": \\\"219\\\",\\n    \\\"KYRGHYZSTAN\\\": \\\"216\\\",\\n    \\\"LAO PD RP\\\": \\\"223\\\",\\n    \\\"LATVIA\\\": \\\"224\\\",\\n    \\\"LEBANON\\\": \\\"225\\\",\\n    \\\"LESOTHO\\\": \\\"227\\\",\\n    \\\"LIBERIA\\\": \\\"229\\\",\\n    \\\"LIBYA\\\": \\\"231\\\",\\n    \\\"LIECHTENSTEIN\\\": \\\"233\\\",\\n    \\\"LITHUANIA\\\": \\\"234\\\",\\n    \\\"LUXEMBOURG\\\": \\\"235\\\",\\n    \\\"MACAO\\\": \\\"239\\\",\\n    \\\"MACEDONIA\\\": \\\"240\\\",\\n    \\\"MADAGASCAR\\\": \\\"241\\\",\\n    \\\"MALAWI\\\": \\\"243\\\",\\n    \\\"MALAYSIA\\\": \\\"245\\\",\\n    \\\"MALDIVES\\\": \\\"247\\\",\\n    \\\"MALI\\\": \\\"249\\\",\\n    \\\"MALTA\\\": \\\"251\\\",\\n    \\\"MARSHALL ISLAND\\\": \\\"252\\\",\\n    \\\"MARTINIQUE\\\": \\\"253\\\",\\n    \\\"MAURITANIA\\\": \\\"255\\\",\\n    \\\"MAURITIUS\\\": \\\"257\\\",\\n    \\\"MAYOTTE\\\": \\\"34\\\",\\n    \\\"MEXICO\\\": \\\"259\\\",\\n    \\\"MICRONESIA\\\": \\\"256\\\",\\n    \\\"MOLDOVA\\\": \\\"260\\\",\\n    \\\"MONACO\\\": \\\"262\\\",\\n    \\\"MONGOLIA\\\": \\\"261\\\",\\n    \\\"MONTENEGRO\\\": \\\"356\\\",\\n    \\\"MONTSERRAT\\\": \\\"263\\\",\\n    \\\"MOROCCO\\\": \\\"265\\\",\\n    \\\"MOZAMBIQUE\\\": \\\"267\\\",\\n    \\\"MYANMAR\\\": \\\"258\\\",\\n    \\\"N. MARIANA IS.\\\": \\\"294\\\",\\n    \\\"NAMIBIA\\\": \\\"269\\\",\\n    \\\"NAURU RP\\\": \\\"271\\\",\\n    \\\"NEPAL\\\": \\\"273\\\",\\n    \\\"NETHERLAND\\\": \\\"275\\\",\\n    \\\"NETHERLANDANTIL\\\": \\\"277\\\",\\n    \\\"NEUTRAL ZONE\\\": \\\"279\\\",\\n    \\\"NEW CALEDONIA\\\": \\\"281\\\",\\n    \\\"NEW ZEALAND\\\": \\\"285\\\",\\n    \\\"NICARAGUA\\\": \\\"287\\\",\\n    \\\"NIGER\\\": \\\"289\\\",\\n    \\\"NIGERIA\\\": \\\"291\\\",\\n    \\\"NIUE IS\\\": \\\"293\\\",\\n    \\\"NORFOLK IS\\\": \\\"295\\\",\\n    \\\"NORWAY\\\": \\\"297\\\",\\n    \\\"OMAN\\\": \\\"301\\\",\\n    \\\"PACIFIC IS\\\": \\\"307\\\",\\n    \\\"PAKISTAN IR\\\": \\\"309\\\",\\n    \\\"PALAU\\\": \\\"310\\\",\\n    \\\"PANAMA C Z\\\": \\\"313\\\",\\n    \\\"PANAMA REPUBLIC\\\": \\\"311\\\",\\n    \\\"PAPUA N GNA\\\": \\\"315\\\",\\n    \\\"PARAGUAY\\\": \\\"317\\\",\\n    \\\"PERU\\\": \\\"319\\\",\\n    \\\"Petroleum Products\\\": \\\"0\\\",\\n    \\\"PHILIPPINES\\\": \\\"323\\\",\\n    \\\"PITCAIRN IS.\\\": \\\"321\\\",\\n    \\\"POLAND\\\": \\\"325\\\",\\n    \\\"PORTUGAL\\\": \\\"327\\\",\\n    \\\"PUERTO RICO\\\": \\\"331\\\",\\n    \\\"QATAR\\\": \\\"335\\\",\\n    \\\"REUNION\\\": \\\"339\\\",\\n    \\\"ROMANIA\\\": \\\"343\\\",\\n    \\\"RUSSIA\\\": \\\"344\\\",\\n    \\\"RWANDA\\\": \\\"345\\\",\\n    \\\"SAHARWI A.DM RP\\\": \\\"347\\\",\\n    \\\"SAMOA\\\": \\\"447\\\",\\n    \\\"SAN MARINO\\\": \\\"346\\\",\\n    \\\"SAO TOME\\\": \\\"349\\\",\\n    \\\"SAUDI ARAB\\\": \\\"351\\\",\\n    \\\"SENEGAL\\\": \\\"353\\\",\\n    \\\"SERBIA\\\": \\\"352\\\",\\n    \\\"SEYCHELLES\\\": \\\"355\\\",\\n    \\\"SIERRA LEONE\\\": \\\"357\\\",\\n    \\\"SINGAPORE\\\": \\\"359\\\",\\n    \\\"SINT MAARTEN (DUTCH PART)\\\": \\\"278\\\",\\n    \\\"SLOVAK REP\\\": \\\"358\\\",\\n    \\\"SLOVENIA\\\": \\\"360\\\",\\n    \\\"SOLOMON IS\\\": \\\"361\\\",\\n    \\\"SOMALIA\\\": \\\"363\\\",\\n    \\\"SOUTH AFRICA\\\": \\\"365\\\",\\n    \\\"SOUTH SUDAN \\\": \\\"382\\\",\\n    \\\"SPAIN\\\": \\\"367\\\",\\n    \\\"SRI LANKA DSR\\\": \\\"369\\\",\\n    \\\"ST HELENA\\\": \\\"371\\\",\\n    \\\"ST KITT N A\\\": \\\"373\\\",\\n    \\\"ST LUCIA\\\": \\\"375\\\",\\n    \\\"ST PIERRE\\\": \\\"377\\\",\\n    \\\"ST VINCENT\\\": \\\"379\\\",\\n    \\\"STATE OF PALEST\\\": \\\"196\\\",\\n    \\\"SUDAN\\\": \\\"381\\\",\\n    \\\"SURINAME\\\": \\\"383\\\",\\n    \\\"SVALLBARD AND J\\\": \\\"6\\\",\\n    \\\"SWAZILAND\\\": \\\"385\\\",\\n    \\\"SWEDEN\\\": \\\"387\\\",\\n    \\\"SWITZERLAND\\\": \\\"389\\\",\\n    \\\"SYRIA\\\": \\\"391\\\",\\n    \\\"TAIWAN\\\": \\\"75\\\",\\n    \\\"TAJIKISTAN\\\": \\\"393\\\",\\n    \\\"TANZANIA REP\\\": \\\"395\\\",\\n    \\\"THAILAND\\\": \\\"397\\\",\\n    \\\"TIMOR LESTE\\\": \\\"329\\\",\\n    \\\"TOGO\\\": \\\"399\\\",\\n    \\\"TOKELAU IS\\\": \\\"401\\\",\\n    \\\"TONGA\\\": \\\"403\\\",\\n    \\\"Trade to Unspecified Countries\\\": \\\"999\\\",\\n    \\\"TRINIDAD\\\": \\\"405\\\",\\n    \\\"TUNISIA\\\": \\\"407\\\",\\n    \\\"TURKEY\\\": \\\"409\\\",\\n    \\\"TURKMENISTAN\\\": \\\"410\\\",\\n    \\\"TURKS C IS\\\": \\\"411\\\",\\n    \\\"TUVALU\\\": \\\"413\\\",\\n    \\\"U ARAB EMTS\\\": \\\"419\\\",\\n    \\\"U K\\\": \\\"421\\\",\\n    \\\"U S A\\\": \\\"423\\\",\\n    \\\"UGANDA\\\": \\\"417\\\",\\n    \\\"UKRAINE\\\": \\\"422\\\",\\n    \\\"UNION OF SERBIA & MONTENEGRO\\\": \\\"354\\\",\\n    \\\"UNSPECIFIED\\\": \\\"599\\\",\\n    \\\"URUGUAY\\\": \\\"427\\\",\\n    \\\"US MINOR OUTLYING ISLANDS               \\\": \\\"424\\\",\\n    \\\"UZBEKISTAN\\\": \\\"430\\\",\\n    \\\"VANUATU REP\\\": \\\"431\\\",\\n    \\\"VATICAN CITY\\\": \\\"198\\\",\\n    \\\"VENEZUELA\\\": \\\"433\\\",\\n    \\\"VIETNAM SOC REP\\\": \\\"437\\\",\\n    \\\"VIRGIN IS US\\\": \\\"439\\\",\\n    \\\"WALLIS F IS\\\": \\\"443\\\",\\n    \\\"YEMEN REPUBLC\\\": \\\"453\\\",\\n    \\\"ZAMBIA\\\": \\\"461\\\",\\n    \\\"ZIMBABWE\\\": \\\"463\\\",\\n}\";\n",
              "                var nbb_cells = Jupyter.notebook.get_cells();\n",
              "                for (var i = 0; i < nbb_cells.length; ++i) {\n",
              "                    if (nbb_cells[i].input_prompt_number == nbb_cell_id) {\n",
              "                        if (nbb_cells[i].get_text() == nbb_unformatted_code) {\n",
              "                             nbb_cells[i].set_text(nbb_formatted_code);\n",
              "                        }\n",
              "                        break;\n",
              "                    }\n",
              "                }\n",
              "            }, 500);\n",
              "            "
            ]
          },
          "metadata": {}
        }
      ]
    },
    {
      "cell_type": "code",
      "source": [
        "session = requests.Session()"
      ],
      "metadata": {
        "colab": {
          "base_uri": "https://localhost:8080/",
          "height": 34
        },
        "id": "pbV6ZwME38AW",
        "outputId": "8fb6fe82-9d09-4ba9-8808-c5d79dd19a45"
      },
      "execution_count": 24,
      "outputs": [
        {
          "output_type": "stream",
          "name": "stdout",
          "text": [
            "time: 681 µs (started: 2022-11-01 12:13:23 +00:00)\n"
          ]
        },
        {
          "output_type": "display_data",
          "data": {
            "text/plain": [
              "<IPython.core.display.Javascript object>"
            ],
            "application/javascript": [
              "\n",
              "            setTimeout(function() {\n",
              "                var nbb_cell_id = 24;\n",
              "                var nbb_unformatted_code = \"session = requests.Session()\";\n",
              "                var nbb_formatted_code = \"session = requests.Session()\";\n",
              "                var nbb_cells = Jupyter.notebook.get_cells();\n",
              "                for (var i = 0; i < nbb_cells.length; ++i) {\n",
              "                    if (nbb_cells[i].input_prompt_number == nbb_cell_id) {\n",
              "                        if (nbb_cells[i].get_text() == nbb_unformatted_code) {\n",
              "                             nbb_cells[i].set_text(nbb_formatted_code);\n",
              "                        }\n",
              "                        break;\n",
              "                    }\n",
              "                }\n",
              "            }, 500);\n",
              "            "
            ]
          },
          "metadata": {}
        }
      ]
    },
    {
      "cell_type": "code",
      "source": [
        "url = \"https://tradestat.commerce.gov.in/eidb/ecntcom.asp\""
      ],
      "metadata": {
        "colab": {
          "base_uri": "https://localhost:8080/",
          "height": 34
        },
        "id": "O6QIYvJS0xlv",
        "outputId": "8f47f33e-9d5b-4bc1-8487-ddd83af074cb"
      },
      "execution_count": 25,
      "outputs": [
        {
          "output_type": "stream",
          "name": "stdout",
          "text": [
            "time: 510 µs (started: 2022-11-01 12:13:24 +00:00)\n"
          ]
        },
        {
          "output_type": "display_data",
          "data": {
            "text/plain": [
              "<IPython.core.display.Javascript object>"
            ],
            "application/javascript": [
              "\n",
              "            setTimeout(function() {\n",
              "                var nbb_cell_id = 25;\n",
              "                var nbb_unformatted_code = \"url = \\\"https://tradestat.commerce.gov.in/eidb/ecntcom.asp\\\"\";\n",
              "                var nbb_formatted_code = \"url = \\\"https://tradestat.commerce.gov.in/eidb/ecntcom.asp\\\"\";\n",
              "                var nbb_cells = Jupyter.notebook.get_cells();\n",
              "                for (var i = 0; i < nbb_cells.length; ++i) {\n",
              "                    if (nbb_cells[i].input_prompt_number == nbb_cell_id) {\n",
              "                        if (nbb_cells[i].get_text() == nbb_unformatted_code) {\n",
              "                             nbb_cells[i].set_text(nbb_formatted_code);\n",
              "                        }\n",
              "                        break;\n",
              "                    }\n",
              "                }\n",
              "            }, 500);\n",
              "            "
            ]
          },
          "metadata": {}
        }
      ]
    },
    {
      "cell_type": "code",
      "source": [
        "options = {\n",
        "    'hslevel': 2,\n",
        "    'sort': 0,\n",
        "    'radioDAll': 1,\n",
        "    'radiousd': 1\n",
        "} "
      ],
      "metadata": {
        "colab": {
          "base_uri": "https://localhost:8080/",
          "height": 34
        },
        "id": "uKYjuyI69EeW",
        "outputId": "12a01d4c-7110-45b8-b0cc-7b676679c085"
      },
      "execution_count": 28,
      "outputs": [
        {
          "output_type": "stream",
          "name": "stdout",
          "text": [
            "time: 729 µs (started: 2022-11-01 12:14:09 +00:00)\n"
          ]
        },
        {
          "output_type": "display_data",
          "data": {
            "text/plain": [
              "<IPython.core.display.Javascript object>"
            ],
            "application/javascript": [
              "\n",
              "            setTimeout(function() {\n",
              "                var nbb_cell_id = 28;\n",
              "                var nbb_unformatted_code = \"options = {\\n    'hslevel': 2,\\n    'sort': 0,\\n    'radioDAll': 1,\\n    'radiousd': 1\\n} \";\n",
              "                var nbb_formatted_code = \"options = {\\\"hslevel\\\": 2, \\\"sort\\\": 0, \\\"radioDAll\\\": 1, \\\"radiousd\\\": 1}\";\n",
              "                var nbb_cells = Jupyter.notebook.get_cells();\n",
              "                for (var i = 0; i < nbb_cells.length; ++i) {\n",
              "                    if (nbb_cells[i].input_prompt_number == nbb_cell_id) {\n",
              "                        if (nbb_cells[i].get_text() == nbb_unformatted_code) {\n",
              "                             nbb_cells[i].set_text(nbb_formatted_code);\n",
              "                        }\n",
              "                        break;\n",
              "                    }\n",
              "                }\n",
              "            }, 500);\n",
              "            "
            ]
          },
          "metadata": {}
        }
      ]
    },
    {
      "cell_type": "code",
      "source": [
        "dfs = []\n",
        "for year in range(2010, 2022):\n",
        "  for country in list(country_list.keys()):\n",
        "    options['yy1'] = year\n",
        "    options['cntcode'] = country_list[country]\n",
        "    sample = session.post(url, options)\n",
        "\n",
        "    try: \n",
        "      print(f\"Extracting {country} - {year}\")\n",
        "\n",
        "      response_df = pd.read_html(sample.content)[0].iloc[:-3,1:5] # remove extra rows from bottom\n",
        "      response_df = response_df.drop(response_df.columns[2], axis=1) # remove previous year data\n",
        "      response_df.rename(columns={response_df.columns[2]: 'value'}, inplace=True) # rename to \"value\"\n",
        "      response_df['country'] = country\n",
        "      response_df['year'] = year\n",
        "      dfs.append(response_df)\n",
        "\n",
        "    except:\n",
        "      print(f\"Unable to extract: {country} for {year}\")\n",
        "      pass"
      ],
      "metadata": {
        "colab": {
          "base_uri": "https://localhost:8080/"
        },
        "id": "NcF2V4vF_CM3",
        "outputId": "431b27c3-8bc8-4c34-d0a5-d850f0bacfbb"
      },
      "execution_count": null,
      "outputs": [
        {
          "output_type": "stream",
          "name": "stdout",
          "text": [
            "Extracting AFGHANISTAN - 2010\n",
            "Extracting ALBANIA - 2010\n",
            "Extracting ALGERIA - 2010\n",
            "Extracting AMERI SAMOA - 2010\n",
            "Extracting ANDORRA - 2010\n",
            "Extracting ANGOLA - 2010\n",
            "Extracting ANGUILLA - 2010\n",
            "Extracting ANTARTICA - 2010\n",
            "Extracting ANTIGUA - 2010\n",
            "Extracting ARGENTINA - 2010\n",
            "Extracting ARMENIA - 2010\n",
            "Extracting ARUBA - 2010\n",
            "Extracting AUSTRALIA - 2010\n"
          ]
        }
      ]
    },
    {
      "cell_type": "code",
      "source": [
        "df = pd.concat(dfs)\n",
        "df.to_csv('try.csv', index=False)\n",
        "df"
      ],
      "metadata": {
        "id": "aSu_6WfI1arv"
      },
      "execution_count": null,
      "outputs": []
    },
    {
      "cell_type": "code",
      "source": [
        "df"
      ],
      "metadata": {
        "colab": {
          "base_uri": "https://localhost:8080/",
          "height": 441
        },
        "id": "FCkrE-n6FL_b",
        "outputId": "b96a70c4-35df-4b85-b918-b296742c8f3d"
      },
      "execution_count": 10,
      "outputs": [
        {
          "output_type": "execute_result",
          "data": {
            "text/plain": [
              "   HSCode                                          Commodity  value  \\\n",
              "0      02                        MEAT AND EDIBLE MEAT OFFAL.   0.89   \n",
              "1      03  FISH AND CRUSTACEANS, MOLLUSCS AND OTHER AQUAT...    NaN   \n",
              "2      04  DAIRY PRODUCE; BIRDS' EGGS; NATURAL HONEY; EDI...  23.48   \n",
              "3      05  PRODUCTS OF ANIMAL ORIGIN, NOT ELSEWHERE SPECI...   0.00   \n",
              "4      06  LIVE TREES AND OTHER PLANTS; BULBS; ROOTS AND ...   0.00   \n",
              "..    ...                                                ...    ...   \n",
              "70     95  TOYS, GAMES AND SPORTS REQUISITES; PARTS AND A...   0.03   \n",
              "71     96               MISCELLANEOUS MANUFACTURED ARTICLES.   0.09   \n",
              "72     97      WORKS OF ART COLLECTORS' PIECES AND ANTIQUES.    NaN   \n",
              "73     98                  PROJECT GOODS; SOME SPECIAL USES.    NaN   \n",
              "74     99                               MISCELLANEOUS GOODS.    NaN   \n",
              "\n",
              "        country  year  \n",
              "0   AFGHANISTAN  2010  \n",
              "1   AFGHANISTAN  2010  \n",
              "2   AFGHANISTAN  2010  \n",
              "3   AFGHANISTAN  2010  \n",
              "4   AFGHANISTAN  2010  \n",
              "..          ...   ...  \n",
              "70      BELARUS  2021  \n",
              "71      BELARUS  2021  \n",
              "72      BELARUS  2021  \n",
              "73      BELARUS  2021  \n",
              "74      BELARUS  2021  \n",
              "\n",
              "[14676 rows x 5 columns]"
            ],
            "text/html": [
              "\n",
              "  <div id=\"df-f7c7c1ad-156e-416d-ae20-5a01de080c7b\">\n",
              "    <div class=\"colab-df-container\">\n",
              "      <div>\n",
              "<style scoped>\n",
              "    .dataframe tbody tr th:only-of-type {\n",
              "        vertical-align: middle;\n",
              "    }\n",
              "\n",
              "    .dataframe tbody tr th {\n",
              "        vertical-align: top;\n",
              "    }\n",
              "\n",
              "    .dataframe thead th {\n",
              "        text-align: right;\n",
              "    }\n",
              "</style>\n",
              "<table border=\"1\" class=\"dataframe\">\n",
              "  <thead>\n",
              "    <tr style=\"text-align: right;\">\n",
              "      <th></th>\n",
              "      <th>HSCode</th>\n",
              "      <th>Commodity</th>\n",
              "      <th>value</th>\n",
              "      <th>country</th>\n",
              "      <th>year</th>\n",
              "    </tr>\n",
              "  </thead>\n",
              "  <tbody>\n",
              "    <tr>\n",
              "      <th>0</th>\n",
              "      <td>02</td>\n",
              "      <td>MEAT AND EDIBLE MEAT OFFAL.</td>\n",
              "      <td>0.89</td>\n",
              "      <td>AFGHANISTAN</td>\n",
              "      <td>2010</td>\n",
              "    </tr>\n",
              "    <tr>\n",
              "      <th>1</th>\n",
              "      <td>03</td>\n",
              "      <td>FISH AND CRUSTACEANS, MOLLUSCS AND OTHER AQUAT...</td>\n",
              "      <td>NaN</td>\n",
              "      <td>AFGHANISTAN</td>\n",
              "      <td>2010</td>\n",
              "    </tr>\n",
              "    <tr>\n",
              "      <th>2</th>\n",
              "      <td>04</td>\n",
              "      <td>DAIRY PRODUCE; BIRDS' EGGS; NATURAL HONEY; EDI...</td>\n",
              "      <td>23.48</td>\n",
              "      <td>AFGHANISTAN</td>\n",
              "      <td>2010</td>\n",
              "    </tr>\n",
              "    <tr>\n",
              "      <th>3</th>\n",
              "      <td>05</td>\n",
              "      <td>PRODUCTS OF ANIMAL ORIGIN, NOT ELSEWHERE SPECI...</td>\n",
              "      <td>0.00</td>\n",
              "      <td>AFGHANISTAN</td>\n",
              "      <td>2010</td>\n",
              "    </tr>\n",
              "    <tr>\n",
              "      <th>4</th>\n",
              "      <td>06</td>\n",
              "      <td>LIVE TREES AND OTHER PLANTS; BULBS; ROOTS AND ...</td>\n",
              "      <td>0.00</td>\n",
              "      <td>AFGHANISTAN</td>\n",
              "      <td>2010</td>\n",
              "    </tr>\n",
              "    <tr>\n",
              "      <th>...</th>\n",
              "      <td>...</td>\n",
              "      <td>...</td>\n",
              "      <td>...</td>\n",
              "      <td>...</td>\n",
              "      <td>...</td>\n",
              "    </tr>\n",
              "    <tr>\n",
              "      <th>70</th>\n",
              "      <td>95</td>\n",
              "      <td>TOYS, GAMES AND SPORTS REQUISITES; PARTS AND A...</td>\n",
              "      <td>0.03</td>\n",
              "      <td>BELARUS</td>\n",
              "      <td>2021</td>\n",
              "    </tr>\n",
              "    <tr>\n",
              "      <th>71</th>\n",
              "      <td>96</td>\n",
              "      <td>MISCELLANEOUS MANUFACTURED ARTICLES.</td>\n",
              "      <td>0.09</td>\n",
              "      <td>BELARUS</td>\n",
              "      <td>2021</td>\n",
              "    </tr>\n",
              "    <tr>\n",
              "      <th>72</th>\n",
              "      <td>97</td>\n",
              "      <td>WORKS OF ART COLLECTORS' PIECES AND ANTIQUES.</td>\n",
              "      <td>NaN</td>\n",
              "      <td>BELARUS</td>\n",
              "      <td>2021</td>\n",
              "    </tr>\n",
              "    <tr>\n",
              "      <th>73</th>\n",
              "      <td>98</td>\n",
              "      <td>PROJECT GOODS; SOME SPECIAL USES.</td>\n",
              "      <td>NaN</td>\n",
              "      <td>BELARUS</td>\n",
              "      <td>2021</td>\n",
              "    </tr>\n",
              "    <tr>\n",
              "      <th>74</th>\n",
              "      <td>99</td>\n",
              "      <td>MISCELLANEOUS GOODS.</td>\n",
              "      <td>NaN</td>\n",
              "      <td>BELARUS</td>\n",
              "      <td>2021</td>\n",
              "    </tr>\n",
              "  </tbody>\n",
              "</table>\n",
              "<p>14676 rows × 5 columns</p>\n",
              "</div>\n",
              "      <button class=\"colab-df-convert\" onclick=\"convertToInteractive('df-f7c7c1ad-156e-416d-ae20-5a01de080c7b')\"\n",
              "              title=\"Convert this dataframe to an interactive table.\"\n",
              "              style=\"display:none;\">\n",
              "        \n",
              "  <svg xmlns=\"http://www.w3.org/2000/svg\" height=\"24px\"viewBox=\"0 0 24 24\"\n",
              "       width=\"24px\">\n",
              "    <path d=\"M0 0h24v24H0V0z\" fill=\"none\"/>\n",
              "    <path d=\"M18.56 5.44l.94 2.06.94-2.06 2.06-.94-2.06-.94-.94-2.06-.94 2.06-2.06.94zm-11 1L8.5 8.5l.94-2.06 2.06-.94-2.06-.94L8.5 2.5l-.94 2.06-2.06.94zm10 10l.94 2.06.94-2.06 2.06-.94-2.06-.94-.94-2.06-.94 2.06-2.06.94z\"/><path d=\"M17.41 7.96l-1.37-1.37c-.4-.4-.92-.59-1.43-.59-.52 0-1.04.2-1.43.59L10.3 9.45l-7.72 7.72c-.78.78-.78 2.05 0 2.83L4 21.41c.39.39.9.59 1.41.59.51 0 1.02-.2 1.41-.59l7.78-7.78 2.81-2.81c.8-.78.8-2.07 0-2.86zM5.41 20L4 18.59l7.72-7.72 1.47 1.35L5.41 20z\"/>\n",
              "  </svg>\n",
              "      </button>\n",
              "      \n",
              "  <style>\n",
              "    .colab-df-container {\n",
              "      display:flex;\n",
              "      flex-wrap:wrap;\n",
              "      gap: 12px;\n",
              "    }\n",
              "\n",
              "    .colab-df-convert {\n",
              "      background-color: #E8F0FE;\n",
              "      border: none;\n",
              "      border-radius: 50%;\n",
              "      cursor: pointer;\n",
              "      display: none;\n",
              "      fill: #1967D2;\n",
              "      height: 32px;\n",
              "      padding: 0 0 0 0;\n",
              "      width: 32px;\n",
              "    }\n",
              "\n",
              "    .colab-df-convert:hover {\n",
              "      background-color: #E2EBFA;\n",
              "      box-shadow: 0px 1px 2px rgba(60, 64, 67, 0.3), 0px 1px 3px 1px rgba(60, 64, 67, 0.15);\n",
              "      fill: #174EA6;\n",
              "    }\n",
              "\n",
              "    [theme=dark] .colab-df-convert {\n",
              "      background-color: #3B4455;\n",
              "      fill: #D2E3FC;\n",
              "    }\n",
              "\n",
              "    [theme=dark] .colab-df-convert:hover {\n",
              "      background-color: #434B5C;\n",
              "      box-shadow: 0px 1px 3px 1px rgba(0, 0, 0, 0.15);\n",
              "      filter: drop-shadow(0px 1px 2px rgba(0, 0, 0, 0.3));\n",
              "      fill: #FFFFFF;\n",
              "    }\n",
              "  </style>\n",
              "\n",
              "      <script>\n",
              "        const buttonEl =\n",
              "          document.querySelector('#df-f7c7c1ad-156e-416d-ae20-5a01de080c7b button.colab-df-convert');\n",
              "        buttonEl.style.display =\n",
              "          google.colab.kernel.accessAllowed ? 'block' : 'none';\n",
              "\n",
              "        async function convertToInteractive(key) {\n",
              "          const element = document.querySelector('#df-f7c7c1ad-156e-416d-ae20-5a01de080c7b');\n",
              "          const dataTable =\n",
              "            await google.colab.kernel.invokeFunction('convertToInteractive',\n",
              "                                                     [key], {});\n",
              "          if (!dataTable) return;\n",
              "\n",
              "          const docLinkHtml = 'Like what you see? Visit the ' +\n",
              "            '<a target=\"_blank\" href=https://colab.research.google.com/notebooks/data_table.ipynb>data table notebook</a>'\n",
              "            + ' to learn more about interactive tables.';\n",
              "          element.innerHTML = '';\n",
              "          dataTable['output_type'] = 'display_data';\n",
              "          await google.colab.output.renderOutput(dataTable, element);\n",
              "          const docLink = document.createElement('div');\n",
              "          docLink.innerHTML = docLinkHtml;\n",
              "          element.appendChild(docLink);\n",
              "        }\n",
              "      </script>\n",
              "    </div>\n",
              "  </div>\n",
              "  "
            ]
          },
          "metadata": {},
          "execution_count": 10
        },
        {
          "output_type": "stream",
          "name": "stdout",
          "text": [
            "time: 14.7 ms (started: 2022-11-01 12:05:12 +00:00)\n"
          ]
        },
        {
          "output_type": "display_data",
          "data": {
            "text/plain": [
              "<IPython.core.display.Javascript object>"
            ],
            "application/javascript": [
              "\n",
              "            setTimeout(function() {\n",
              "                var nbb_cell_id = 10;\n",
              "                var nbb_unformatted_code = \"df\";\n",
              "                var nbb_formatted_code = \"df\";\n",
              "                var nbb_cells = Jupyter.notebook.get_cells();\n",
              "                for (var i = 0; i < nbb_cells.length; ++i) {\n",
              "                    if (nbb_cells[i].input_prompt_number == nbb_cell_id) {\n",
              "                        if (nbb_cells[i].get_text() == nbb_unformatted_code) {\n",
              "                             nbb_cells[i].set_text(nbb_formatted_code);\n",
              "                        }\n",
              "                        break;\n",
              "                    }\n",
              "                }\n",
              "            }, 500);\n",
              "            "
            ]
          },
          "metadata": {}
        }
      ]
    }
  ]
}