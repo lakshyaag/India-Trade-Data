{
  "cells": [
    {
      "cell_type": "code",
      "execution_count": null,
      "metadata": {
        "colab": {
          "base_uri": "https://localhost:8080/"
        },
        "id": "rpDeiH_I5cVv",
        "outputId": "dddc67a8-23e0-4f5b-fc1a-29cb1b2cf85b"
      },
      "outputs": [],
      "source": [
        "!pip install ipython-autotime pandas bs4\n"
      ]
    },
    {
      "cell_type": "code",
      "execution_count": null,
      "metadata": {
        "colab": {
          "base_uri": "https://localhost:8080/",
          "height": 34
        },
        "id": "D45sW6bd-jp-",
        "outputId": "96cb1ea4-f6a8-4380-b8f1-bfd5f1fab4ee"
      },
      "outputs": [],
      "source": [
        "%load_ext autotime\n"
      ]
    },
    {
      "cell_type": "markdown",
      "metadata": {},
      "source": [
        "## Import libraries"
      ]
    },
    {
      "cell_type": "code",
      "execution_count": null,
      "metadata": {
        "colab": {
          "base_uri": "https://localhost:8080/",
          "height": 34
        },
        "id": "ZZAJ1LCXz334",
        "outputId": "0be0490f-a521-43bc-cf8b-e5b82e8a7e8c"
      },
      "outputs": [],
      "source": [
        "import requests\n",
        "from bs4 import BeautifulSoup\n",
        "import pandas as pd\n",
        "import re\n"
      ]
    },
    {
      "cell_type": "markdown",
      "metadata": {},
      "source": [
        "## Define country codes and base options"
      ]
    },
    {
      "cell_type": "code",
      "execution_count": null,
      "metadata": {
        "colab": {
          "base_uri": "https://localhost:8080/",
          "height": 34
        },
        "id": "CLgBqZTe-g9j",
        "outputId": "71cd0443-1e61-4e81-dc1d-539ea78a2bd0"
      },
      "outputs": [],
      "source": [
        "country_list = {'AFGHANISTAN': '1',\n",
        "                'ALBANIA': '3',\n",
        "                'ALGERIA': '5',\n",
        "                'AMERI SAMOA': '7',\n",
        "                'ANDORRA': '9',\n",
        "                'ANGOLA': '11',\n",
        "                'ANGUILLA': '12',\n",
        "                'ANTARTICA': '14',\n",
        "                'ANTIGUA': '13',\n",
        "                'ARGENTINA': '15',\n",
        "                'ARMENIA': '16',\n",
        "                'ARUBA': '20',\n",
        "                'AUSTRALIA': '17',\n",
        "                'AUSTRIA': '19',\n",
        "                'AZERBAIJAN': '21',\n",
        "                'BAHAMAS': '23',\n",
        "                'BAHARAIN IS': '25',\n",
        "                'BANGLADESH PR': '27',\n",
        "                'BARBADOS': '29',\n",
        "                'BELARUS': '55',\n",
        "                'BELGIUM': '33',\n",
        "                'BELIZE': '31',\n",
        "                'BENIN': '35',\n",
        "                'BERMUDA': '37',\n",
        "                'BHUTAN': '38',\n",
        "                'BOLIVIA': '39',\n",
        "                'BOSNIA-HRZGOVIN': '40',\n",
        "                'BOTSWANA': '41',\n",
        "                'BR VIRGN IS': '45',\n",
        "                'BRAZIL': '43',\n",
        "                'BRUNEI': '47',\n",
        "                'BULGARIA': '49',\n",
        "                'BURKINA FASO': '50',\n",
        "                'BURUNDI': '53',\n",
        "                'C AFRI REP': '67',\n",
        "                'CAMBODIA': '56',\n",
        "                'CAMEROON': '57',\n",
        "                'CANADA': '59',\n",
        "                'CANARY IS': '61',\n",
        "                'CAPE VERDE IS': '63',\n",
        "                'CAYMAN IS': '65',\n",
        "                'CHAD': '69',\n",
        "                'CHANNEL IS': '71',\n",
        "                'CHILE': '73',\n",
        "                'CHINA P RP': '77',\n",
        "                'CHRISTMAS IS.': '79',\n",
        "                'COCOS IS': '81',\n",
        "                'COLOMBIA': '83',\n",
        "                'COMOROS': '85',\n",
        "                'CONGO D. REP.': '459',\n",
        "                'CONGO P REP': '87',\n",
        "                'COOK IS': '89',\n",
        "                'COSTA RICA': '91',\n",
        "                \"COTE D' IVOIRE\": '199',\n",
        "                'CROATIA': '92',\n",
        "                'CUBA': '93',\n",
        "                'CURACAO': '276',\n",
        "                'CYPRUS': '95',\n",
        "                'CZECH REPUBLIC': '98',\n",
        "                'DENMARK': '101',\n",
        "                'DJIBOUTI': '102',\n",
        "                'DOMINIC REP': '103',\n",
        "                'DOMINICA': '105',\n",
        "                'ECUADOR': '109',\n",
        "                'EGYPT A RP': '111',\n",
        "                'EL SALVADOR': '113',\n",
        "                'EQUTL GUINEA': '117',\n",
        "                'ERITREA': '116',\n",
        "                'ESTONIA': '114',\n",
        "                'ETHIOPIA': '115',\n",
        "                'FALKLAND IS': '123',\n",
        "                'FAROE IS.': '121',\n",
        "                'FIJI IS': '127',\n",
        "                'FINLAND': '125',\n",
        "                'FR GUIANA': '131',\n",
        "                'FR POLYNESIA': '133',\n",
        "                'FR S ANT TR': '135',\n",
        "                'FRANCE': '129',\n",
        "                'GABON': '141',\n",
        "                'GAMBIA': '143',\n",
        "                'GEORGIA': '145',\n",
        "                'GERMANY': '147',\n",
        "                'GHANA': '149',\n",
        "                'GIBRALTAR': '151',\n",
        "                'GREECE': '155',\n",
        "                'GREENLAND': '157',\n",
        "                'GRENADA': '159',\n",
        "                'GUADELOUPE': '161',\n",
        "                'GUAM': '163',\n",
        "                'GUATEMALA': '165',\n",
        "                'GUERNSEY': '124',\n",
        "                'GUINEA': '167',\n",
        "                'GUINEA BISSAU': '169',\n",
        "                'GUYANA': '171',\n",
        "                'HAITI': '175',\n",
        "                'HEARD MACDONALD': '176',\n",
        "                'HONDURAS': '177',\n",
        "                'HONG KONG': '179',\n",
        "                'HUNGARY': '181',\n",
        "                'ICELAND': '185',\n",
        "                'INDONESIA': '187',\n",
        "                'INSTALLATIONS IN INTERNATIONAL WATERS   ': '2',\n",
        "                'IRAN': '189',\n",
        "                'IRAQ': '191',\n",
        "                'IRELAND': '193',\n",
        "                'ISRAEL': '195',\n",
        "                'ITALY': '197',\n",
        "                'JAMAICA': '203',\n",
        "                'JAPAN': '205',\n",
        "                'JERSEY         ': '122',\n",
        "                'JORDAN': '207',\n",
        "                'KAZAKHSTAN': '212',\n",
        "                'KENYA': '213',\n",
        "                'KIRIBATI REP': '214',\n",
        "                'KOREA DP RP': '215',\n",
        "                'KOREA RP': '217',\n",
        "                'KUWAIT': '219',\n",
        "                'KYRGHYZSTAN': '216',\n",
        "                'LAO PD RP': '223',\n",
        "                'LATVIA': '224',\n",
        "                'LEBANON': '225',\n",
        "                'LESOTHO': '227',\n",
        "                'LIBERIA': '229',\n",
        "                'LIBYA': '231',\n",
        "                'LIECHTENSTEIN': '233',\n",
        "                'LITHUANIA': '234',\n",
        "                'LUXEMBOURG': '235',\n",
        "                'MACAO': '239',\n",
        "                'MACEDONIA': '240',\n",
        "                'MADAGASCAR': '241',\n",
        "                'MALAWI': '243',\n",
        "                'MALAYSIA': '245',\n",
        "                'MALDIVES': '247',\n",
        "                'MALI': '249',\n",
        "                'MALTA': '251',\n",
        "                'MARSHALL ISLAND': '252',\n",
        "                'MARTINIQUE': '253',\n",
        "                'MAURITANIA': '255',\n",
        "                'MAURITIUS': '257',\n",
        "                'MAYOTTE': '34',\n",
        "                'MEXICO': '259',\n",
        "                'MICRONESIA': '256',\n",
        "                'MOLDOVA': '260',\n",
        "                'MONACO': '262',\n",
        "                'MONGOLIA': '261',\n",
        "                'MONTENEGRO': '356',\n",
        "                'MONTSERRAT': '263',\n",
        "                'MOROCCO': '265',\n",
        "                'MOZAMBIQUE': '267',\n",
        "                'MYANMAR': '258',\n",
        "                'N. MARIANA IS.': '294',\n",
        "                'NAMIBIA': '269',\n",
        "                'NAURU RP': '271',\n",
        "                'NEPAL': '273',\n",
        "                'NETHERLAND': '275',\n",
        "                'NETHERLANDANTIL': '277',\n",
        "                'NEUTRAL ZONE': '279',\n",
        "                'NEW CALEDONIA': '281',\n",
        "                'NEW ZEALAND': '285',\n",
        "                'NICARAGUA': '287',\n",
        "                'NIGER': '289',\n",
        "                'NIGERIA': '291',\n",
        "                'NIUE IS': '293',\n",
        "                'NORFOLK IS': '295',\n",
        "                'NORWAY': '297',\n",
        "                'OMAN': '301',\n",
        "                'PACIFIC IS': '307',\n",
        "                'PAKISTAN IR': '309',\n",
        "                'PALAU': '310',\n",
        "                'PANAMA C Z': '313',\n",
        "                'PANAMA REPUBLIC': '311',\n",
        "                'PAPUA N GNA': '315',\n",
        "                'PARAGUAY': '317',\n",
        "                'PERU': '319',\n",
        "                'Petroleum Products': '0',\n",
        "                'PHILIPPINES': '323',\n",
        "                'PITCAIRN IS.': '321',\n",
        "                'POLAND': '325',\n",
        "                'PORTUGAL': '327',\n",
        "                'PUERTO RICO': '331',\n",
        "                'QATAR': '335',\n",
        "                'REUNION': '339',\n",
        "                'ROMANIA': '343',\n",
        "                'RUSSIA': '344',\n",
        "                'RWANDA': '345',\n",
        "                'SAHARWI A.DM RP': '347',\n",
        "                'SAMOA': '447',\n",
        "                'SAN MARINO': '346',\n",
        "                'SAO TOME': '349',\n",
        "                'SAUDI ARAB': '351',\n",
        "                'SENEGAL': '353',\n",
        "                'SERBIA': '352',\n",
        "                'SEYCHELLES': '355',\n",
        "                'SIERRA LEONE': '357',\n",
        "                'SINGAPORE': '359',\n",
        "                'SINT MAARTEN (DUTCH PART)': '278',\n",
        "                'SLOVAK REP': '358',\n",
        "                'SLOVENIA': '360',\n",
        "                'SOLOMON IS': '361',\n",
        "                'SOMALIA': '363',\n",
        "                'SOUTH AFRICA': '365',\n",
        "                'SOUTH SUDAN ': '382',\n",
        "                'SPAIN': '367',\n",
        "                'SRI LANKA DSR': '369',\n",
        "                'ST HELENA': '371',\n",
        "                'ST KITT N A': '373',\n",
        "                'ST LUCIA': '375',\n",
        "                'ST PIERRE': '377',\n",
        "                'ST VINCENT': '379',\n",
        "                'STATE OF PALEST': '196',\n",
        "                'SUDAN': '381',\n",
        "                'SURINAME': '383',\n",
        "                'SVALLBARD AND J': '6',\n",
        "                'SWAZILAND': '385',\n",
        "                'SWEDEN': '387',\n",
        "                'SWITZERLAND': '389',\n",
        "                'SYRIA': '391',\n",
        "                'TAIWAN': '75',\n",
        "                'TAJIKISTAN': '393',\n",
        "                'TANZANIA REP': '395',\n",
        "                'THAILAND': '397',\n",
        "                'TIMOR LESTE': '329',\n",
        "                'TOGO': '399',\n",
        "                'TOKELAU IS': '401',\n",
        "                'TONGA': '403',\n",
        "                'Trade to Unspecified Countries': '999',\n",
        "                'TRINIDAD': '405',\n",
        "                'TUNISIA': '407',\n",
        "                'TURKEY': '409',\n",
        "                'TURKMENISTAN': '410',\n",
        "                'TURKS C IS': '411',\n",
        "                'TUVALU': '413',\n",
        "                'U ARAB EMTS': '419',\n",
        "                'U K': '421',\n",
        "                'U S A': '423',\n",
        "                'UGANDA': '417',\n",
        "                'UKRAINE': '422',\n",
        "                'UNION OF SERBIA & MONTENEGRO': '354',\n",
        "                'UNSPECIFIED': '599',\n",
        "                'URUGUAY': '427',\n",
        "                'US MINOR OUTLYING ISLANDS               ': '424',\n",
        "                'UZBEKISTAN': '430',\n",
        "                'VANUATU REP': '431',\n",
        "                'VATICAN CITY': '198',\n",
        "                'VENEZUELA': '433',\n",
        "                'VIETNAM SOC REP': '437',\n",
        "                'VIRGIN IS US': '439',\n",
        "                'WALLIS F IS': '443',\n",
        "                'YEMEN REPUBLC': '453',\n",
        "                'ZAMBIA': '461',\n",
        "                'ZIMBABWE': '463'}\n",
        "\n",
        "urls = {\n",
        "    'export': \"https://tradestat.commerce.gov.in/eidb/ecntcom.asp\",\n",
        "    'import': \"https://tradestat.commerce.gov.in/eidb/icntcom.asp\"\n",
        "}\n",
        "options = {\n",
        "    'hslevel': 2,\n",
        "    'sort': 0,\n",
        "    'radioDAll': 1,\n",
        "    'radiousd': 1\n",
        "}\n",
        "\n",
        "session = requests.Session()\n"
      ]
    },
    {
      "cell_type": "markdown",
      "metadata": {},
      "source": [
        "### Function to get trade data for a specified country in a specified year"
      ]
    },
    {
      "cell_type": "code",
      "execution_count": null,
      "metadata": {
        "colab": {
          "base_uri": "https://localhost:8080/",
          "height": 34
        },
        "id": "k3gRZuJB5OVw",
        "outputId": "b9c24165-6609-422c-dba4-7f2de9c2fbd8"
      },
      "outputs": [],
      "source": [
        "def get_trade_data(req_type='export', year=2021, country='U S A'):\n",
        "    url = urls[req_type]\n",
        "\n",
        "    options['yy1'] = year\n",
        "    options['cntcode'] = country_list[country]\n",
        "\n",
        "    sample = session.post(url, options)\n",
        "    try:\n",
        "        # remove extra rows from bottom\n",
        "        response_df = pd.read_html(sample.content)[0].iloc[:-3, 1:5]\n",
        "        # remove previous year data\n",
        "        response_df = response_df.drop(\n",
        "            response_df.columns[2], axis=1)\n",
        "        # rename to \"value\"\n",
        "        response_df.rename(\n",
        "            columns={response_df.columns[2]: 'value'}, inplace=True)\n",
        "        response_df['country'] = country\n",
        "        response_df['year'] = year\n",
        "        return response_df\n",
        "\n",
        "    except:\n",
        "        print(f\"Unable to extract: {country} for {year}\")\n",
        "        pass\n"
      ]
    },
    {
      "cell_type": "markdown",
      "metadata": {},
      "source": [
        "### Function to get trade data (export / import) for all years and countries"
      ]
    },
    {
      "cell_type": "code",
      "execution_count": null,
      "metadata": {
        "colab": {
          "base_uri": "https://localhost:8080/",
          "height": 34
        },
        "id": "NcF2V4vF_CM3",
        "outputId": "8617d4ea-ba4d-4cd5-c3bc-cbc1a4993f6c"
      },
      "outputs": [],
      "source": [
        "def get_data(req_type='export'):\n",
        "    dfs = []\n",
        "    for year in range(2010, 2022):\n",
        "        for country in list(country_list.keys()):\n",
        "            print(f\"Extracting {country} - {year}\")\n",
        "            dfs.append(get_trade_data(req_type, year, country))\n",
        "\n",
        "    return pd.concat(dfs)\n"
      ]
    },
    {
      "cell_type": "markdown",
      "metadata": {},
      "source": [
        "## Get export data"
      ]
    },
    {
      "cell_type": "code",
      "execution_count": null,
      "metadata": {},
      "outputs": [],
      "source": [
        "export_data = get_data('export')\n",
        "export_data.to_csv('./2010_2021_export_data.csv', index=False)\n"
      ]
    },
    {
      "cell_type": "markdown",
      "metadata": {},
      "source": [
        "## Get import data"
      ]
    },
    {
      "cell_type": "code",
      "execution_count": null,
      "metadata": {
        "colab": {
          "base_uri": "https://localhost:8080/",
          "height": 1000
        },
        "id": "FfHmhA416-sd",
        "outputId": "bd7b1ea4-3a20-4974-c2df-db10f45c2217"
      },
      "outputs": [],
      "source": [
        "import_data = get_data('import')\n",
        "import_data.to_csv('./2010_2021_import_data.csv', index=False)\n"
      ]
    }
  ],
  "metadata": {
    "colab": {
      "authorship_tag": "ABX9TyMOfIVDRRgUxcrURiOZSg+S",
      "collapsed_sections": [],
      "provenance": []
    },
    "kernelspec": {
      "display_name": "Python 3.8.3 64-bit",
      "language": "python",
      "name": "python3"
    },
    "language_info": {
      "codemirror_mode": {
        "name": "ipython",
        "version": 3
      },
      "file_extension": ".py",
      "mimetype": "text/x-python",
      "name": "python",
      "nbconvert_exporter": "python",
      "pygments_lexer": "ipython3",
      "version": "3.8.3"
    },
    "vscode": {
      "interpreter": {
        "hash": "570feb405e2e27c949193ac68f46852414290d515b0ba6e5d90d076ed2284471"
      }
    }
  },
  "nbformat": 4,
  "nbformat_minor": 0
}
